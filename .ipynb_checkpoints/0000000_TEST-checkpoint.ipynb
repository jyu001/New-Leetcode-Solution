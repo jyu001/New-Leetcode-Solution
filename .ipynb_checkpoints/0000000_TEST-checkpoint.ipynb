{
 "cells": [
  {
   "cell_type": "code",
   "execution_count": 31,
   "metadata": {},
   "outputs": [
    {
     "name": "stdout",
     "output_type": "stream",
     "text": [
      "['((()))', '(()())', '(())()', '()(())', '()()()']\n"
     ]
    }
   ],
   "source": [
    "#22. Generate Parentheses\n",
    "class Solution:\n",
    "\n",
    "    def isValid(self, s, n):\n",
    "        \"\"\"\n",
    "        :type s: str\n",
    "        :rtype: bool\n",
    "        \"\"\"\n",
    "        m = 0\n",
    "        nleft = 0\n",
    "        for i in range(len(s)):\n",
    "            if s[i] == '(':\n",
    "                m += 1\n",
    "                nleft += 1\n",
    "            else: \n",
    "                m -= 1\n",
    "            if m <0: return False\n",
    "        return m>= 0 and nleft <= n\n",
    "        \n",
    "    def generateParenthesis(self, n):\n",
    "        \"\"\"\n",
    "        :type n: int\n",
    "        :rtype: List[str]\n",
    "        \"\"\"\n",
    "        if n == 0: return []\n",
    "        res = ['(', ')']\n",
    "        new = []\n",
    "        for i in range(n * 2 - 1):\n",
    "            for j in res:\n",
    "                c = j + '('\n",
    "                if self.isValid(c, n): new.append(c)\n",
    "                c = j + ')'\n",
    "                if self.isValid(c, n): new.append(c)\n",
    "            res = new\n",
    "            new = []\n",
    "        return res\n",
    "    \n",
    "print (Solution().generateParenthesis(3))\n"
   ]
  },
  {
   "cell_type": "code",
   "execution_count": null,
   "metadata": {},
   "outputs": [],
   "source": []
  }
 ],
 "metadata": {
  "kernelspec": {
   "display_name": "Python 3",
   "language": "python",
   "name": "python3"
  },
  "language_info": {
   "codemirror_mode": {
    "name": "ipython",
    "version": 3
   },
   "file_extension": ".py",
   "mimetype": "text/x-python",
   "name": "python",
   "nbconvert_exporter": "python",
   "pygments_lexer": "ipython3",
   "version": "3.6.5"
  }
 },
 "nbformat": 4,
 "nbformat_minor": 2
}

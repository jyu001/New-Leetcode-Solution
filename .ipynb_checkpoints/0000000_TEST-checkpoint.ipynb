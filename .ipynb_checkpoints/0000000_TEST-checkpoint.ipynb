{
 "cells": [
  {
   "cell_type": "code",
   "execution_count": 93,
   "metadata": {},
   "outputs": [
    {
     "name": "stdout",
     "output_type": "stream",
     "text": [
      "1\n"
     ]
    }
   ],
   "source": [
    "'''\n",
    "517. Super Washing Machines\n",
    "DescriptionHintsSubmissionsDiscussSolution\n",
    "You have n super washing machines on a line. Initially, each washing machine has some dresses or is empty.\n",
    "\n",
    "For each move, you could choose any m (1 ≤ m ≤ n) washing machines, and pass one dress of each washing machine to one of its adjacent washing machines at the same time .\n",
    "\n",
    "Given an integer array representing the number of dresses in each washing machine from left to right on the line, you should find the minimum number of moves to make all the washing machines have the same number of dresses. If it is not possible to do it, return -1.\n",
    "\n",
    "Example1\n",
    "\n",
    "Input: [1,0,5]\n",
    "\n",
    "Output: 3\n",
    "\n",
    "Explanation: \n",
    "1st move:    1     0 <-- 5    =>    1     1     4\n",
    "2nd move:    1 <-- 1 <-- 4    =>    2     1     3    \n",
    "3rd move:    2     1 <-- 3    =>    2     2     2   \n",
    "Example2\n",
    "\n",
    "Input: [0,3,0]\n",
    "\n",
    "Output: 2\n",
    "\n",
    "Explanation: \n",
    "1st move:    0 <-- 3     0    =>    1     2     0    \n",
    "2nd move:    1     2 --> 0    =>    1     1     1     \n",
    "Example3\n",
    "\n",
    "Input: [0,2,0]\n",
    "\n",
    "Output: -1\n",
    "\n",
    "Explanation: \n",
    "It's impossible to make all the three washing machines have the same number of dresses. \n",
    "Note:\n",
    "The range of n is [1, 10000].\n",
    "The range of dresses number in a super washing machine is [0, 1e5].\n",
    "'''\n",
    "\n",
    "class Solution:\n",
    "    def findMinMoves(self, machines):\n",
    "        \"\"\"\n",
    "        :type machines: List[int]\n",
    "        :rtype: int\n",
    "        \"\"\"\n",
    "        # divide List into blocks [+]|[-]|[+]|[-] ... by combining adjacent positive/negative machines\n",
    "        # ignore machines that contain n == avg load.\n",
    "        # count maxm number need to move through each seperator '|'\n",
    "        # second, find the max single machine load maxm2, return max(maxm, maxm2)\n",
    "        s, n, avg = sum(machines), len(machines), round(sum(machines)/len(machines))\n",
    "        if avg*n != s: return False\n",
    "        curr, maxm, check = 0, 0, 0\n",
    "        for i in range(n-1):\n",
    "            curr = curr + machines[i] - avg\n",
    "            check = curr if curr>0 else -curr\n",
    "            maxm =max(maxm, check)\n",
    "        return maxm\n",
    "        \n",
    "machines = [0,3,0]\n",
    "print(Solution().findMinMoves(machines))"
   ]
  },
  {
   "cell_type": "code",
   "execution_count": null,
   "metadata": {},
   "outputs": [],
   "source": []
  },
  {
   "cell_type": "code",
   "execution_count": null,
   "metadata": {},
   "outputs": [],
   "source": []
  },
  {
   "cell_type": "code",
   "execution_count": null,
   "metadata": {},
   "outputs": [],
   "source": []
  },
  {
   "cell_type": "code",
   "execution_count": null,
   "metadata": {},
   "outputs": [],
   "source": []
  },
  {
   "cell_type": "code",
   "execution_count": null,
   "metadata": {},
   "outputs": [],
   "source": []
  },
  {
   "cell_type": "code",
   "execution_count": 64,
   "metadata": {},
   "outputs": [
    {
     "name": "stdout",
     "output_type": "stream",
     "text": [
      "babbbbaabababaabbababaababaabbaabababbaaababbababaaaaaabbabaaaabababbabbababbbaaaababbbabbbbbbbbbbaabbb b**bb**a**bba*b**a*bbb**aba***babbb*aa****aabb*bbb***a\n",
      "abbbbaabababaabbababaababaabbaabababbaaababbababaaaaaabbabaaaabababbabbababbbaaaababbbabbbbbbbbbbaabbb *bb*a*bba*b*a*bbb*aba*babbb*aa*aabb*bbb*a\n",
      "0 ms\n"
     ]
    }
   ],
   "source": [
    "#44 wildcard matching\n",
    "\n",
    "class Solution:\n",
    "    def isMatch(self, s, p):\n",
    "        \"\"\"\n",
    "        :type s: str\n",
    "        :type p: str\n",
    "        :rtype: bool\n",
    "        \"\"\"   \n",
    "        print(s,p)\n",
    "        lst = p.split('*')\n",
    "        for i in range(len(lst)): \n",
    "            if lst[len(lst)-1-i]== '': lst.pop(len(lst)-1-i)\n",
    "        lenlst = [len(c) for c in lst]\n",
    "        #print (lst, '\\n', lenlst)\n",
    "        \n",
    "        if p[0]!=\"*\":\n",
    "            if lst[0]!= '?' and s[:lenlst[0]] != lst[0]: return False\n",
    "            else: return self.isMatch(s[lenlst[0]:], '*'+'*'.join(lst[1:]))\n",
    "        elif p[-1]!='*':\n",
    "            if lst[-1]!= '?' and s[-lenlst[-1]:] != lst[-1]: return False\n",
    "            else: return self.isMatch(s[:-lenlst[-1]], \"*.join(lst[:-1])+'*'\")\n",
    "        else:\n",
    "            \n",
    "        \n",
    "        \n",
    "        \n",
    "import time\n",
    "start = time.time()\n",
    "s = \"babbbbaabababaabbababaababaabbaabababbaaababbababaaaaaabbabaaaabababbabbababbbaaaababbbabbbbbbbbbbaabbb\"\n",
    "p = \"b**bb**a**bba*b**a*bbb**aba***babbb*aa****aabb*bbb***a\"\n",
    "\n",
    "Solution().isMatch(s,p)\n",
    "   \n",
    "end = time.time()\n",
    "print(int((end-start)*1000), 'ms')\n",
    "\n"
   ]
  },
  {
   "cell_type": "code",
   "execution_count": 61,
   "metadata": {},
   "outputs": [
    {
     "name": "stdout",
     "output_type": "stream",
     "text": [
      "[] \n",
      " []\n"
     ]
    }
   ],
   "source": [
    "\n",
    "s = \"babbbbaabababaabbababaababaabbaabababbaaababbababaaaaaabbabaaaabababbabbababbbaaaababbbabbbbbbbbbbaabbb\"\n",
    "p = \"\"\n",
    "\n",
    "Solution().isMatch(s,p)"
   ]
  },
  {
   "cell_type": "code",
   "execution_count": 41,
   "metadata": {},
   "outputs": [
    {
     "name": "stdout",
     "output_type": "stream",
     "text": [
      "296 ms\n"
     ]
    }
   ],
   "source": [
    "class Solution:\n",
    "    def isMatch(self, s, p):\n",
    "        \"\"\"\n",
    "        :type s: str\n",
    "        :type p: str\n",
    "        :rtype: bool\n",
    "        \"\"\"        \n",
    "        lst = []\n",
    "        indx, lens, cc, ques, star, count =0, 0, '', 0, 0, 0\n",
    "        for i in range(len(p)):\n",
    "            if p[i]=='*' or p[i]=='?': \n",
    "                if indx!=i: \n",
    "                    lst=[indx, lens, cc, ques, star]\n",
    "                    #indx, lens, cc, ques, star = i+1, 0, '', 0, 0\n",
    "                    break # only scan the first substring, not the whole string\n",
    "                if p[i]=='*': star+=1\n",
    "                else: \n",
    "                    ques, count = ques+1, count+1\n",
    "                indx = i+1\n",
    "            else: \n",
    "                lens, cc, count = lens+1, cc+p[i], count+1\n",
    "            if i == len(p)-1: lst=[indx, lens, cc, ques, star]\n",
    "        #print('lst:',lst)\n",
    "        \n",
    "        # first check\n",
    "        if p == '': return False if s else True\n",
    "        elif lst[1:4:2]==[0,0]: return True\n",
    "        elif s == '': return False \n",
    "        elif count > len(s): return False\n",
    "        \n",
    "        # check the first substrings\n",
    "        s = s[ques:]\n",
    "        if s[:lens] == cc: return self.isMatch(s[lens:], p[indx + lens:])\n",
    "        if star == 0: \n",
    "            if s[:lens]==cc: return self.isMatch(s[lens:], p[indx+lens:])\n",
    "        else:\n",
    "            n = s.find(cc)\n",
    "            #print ('0', n, cc, s, p)\n",
    "            while n>=0:\n",
    "                #print ('1', n, s[n+lens:], p[indx+lens:])\n",
    "                if self.isMatch(s[n+lens:], p[indx+lens:]): return True\n",
    "                s = s[n+1:]\n",
    "                n = s.find(cc)\n",
    "                \n",
    "        return False\n",
    "        \n",
    "import time\n",
    "start = time.time()\n",
    "s = \"babbbbaabababaabbababaababaabbaabababbaaababbababaaaaaabbabaaaabababbabbababbbaaaababbbabbbbbbbbbbaabbb\"\n",
    "p = \"b**bb**a**bba*b**a*bbb**aba***babbb*aa****aabb*bbb***a\"\n",
    "\n",
    "Solution().isMatch(s,p)\n",
    "   \n",
    "end = time.time()\n",
    "print(int((end-start)*1000), 'ms')\n",
    "\n"
   ]
  },
  {
   "cell_type": "code",
   "execution_count": 43,
   "metadata": {},
   "outputs": [
    {
     "name": "stdout",
     "output_type": "stream",
     "text": [
      "abbabaaabbabbaababbabbbbbabbbabbbabaaaaababababbbabababaabbababaabbbbbbaaaabababbbaabbbbaabbbbababababbaabbaababaabbbababababbbbaaabbbbbabaaaabbababbbbaababaabbababbbbbababbbabaaaaaaaabbbbbaabaaababaaaabb **aa*****ba*a*bb**aa*ab****a*aaaaaa***a*aaaa**bbabb*b*b**aaaaaaaaa*a********ba*bbb***a*ba*bb*bb**a*b*bb\n",
      "0 ms\n"
     ]
    }
   ],
   "source": [
    "\n",
    "start = time.time()\n",
    "s = \"abbabaaabbabbaababbabbbbbabbbabbbabaaaaababababbbabababaabbababaabbbbbbaaaabababbbaabbbbaabbbbababababbaabbaababaabbbababababbbbaaabbbbbabaaaabbababbbbaababaabbababbbbbababbbabaaaaaaaabbbbbaabaaababaaaabb\"\n",
    "p = \"**aa*****ba*a*bb**aa*ab****a*aaaaaa***a*aaaa**bbabb*b*b**aaaaaaaaa*a********ba*bbb***a*ba*bb*bb**a*b*bb\"\n",
    "\n",
    "Solution().isMatch(s,p)\n",
    "end = time.time()\n",
    "print(int((end-start)*1000), 'ms')\n",
    "   "
   ]
  },
  {
   "cell_type": "code",
   "execution_count": null,
   "metadata": {},
   "outputs": [],
   "source": []
  }
 ],
 "metadata": {
  "kernelspec": {
   "display_name": "Python [default]",
   "language": "python",
   "name": "python3"
  },
  "language_info": {
   "codemirror_mode": {
    "name": "ipython",
    "version": 3
   },
   "file_extension": ".py",
   "mimetype": "text/x-python",
   "name": "python",
   "nbconvert_exporter": "python",
   "pygments_lexer": "ipython3",
   "version": "3.6.5"
  }
 },
 "nbformat": 4,
 "nbformat_minor": 2
}
